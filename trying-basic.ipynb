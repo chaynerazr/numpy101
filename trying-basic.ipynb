{
 "cells": [
  {
   "cell_type": "markdown",
   "id": "1be5e70f-dd39-4f99-859c-f0cae9c56a40",
   "metadata": {},
   "source": [
    "# Trying Basic\n",
    "\n",
    "To try `numpy` first of all, you need to import the package first."
   ]
  },
  {
   "cell_type": "code",
   "execution_count": 3,
   "id": "5a689ab6-4b71-460b-88a7-77915c4c6f58",
   "metadata": {},
   "outputs": [],
   "source": [
    "import numpy as np"
   ]
  },
  {
   "cell_type": "code",
   "execution_count": null,
   "id": "8fd97050-9c27-49b3-bac8-21e0fd0beef5",
   "metadata": {},
   "outputs": [],
   "source": [
    "Then for the"
   ]
  },
  {
   "cell_type": "code",
   "execution_count": 4,
   "id": "5f88f3f5-acbc-4289-9931-8417b023662d",
   "metadata": {},
   "outputs": [
    {
     "data": {
      "text/plain": [
       "1.0"
      ]
     },
     "execution_count": 4,
     "metadata": {},
     "output_type": "execute_result"
    }
   ],
   "source": [
    "x = np.sin(np.pi/2) \n",
    "x"
   ]
  },
  {
   "cell_type": "code",
   "execution_count": 10,
   "id": "4ed34b4b-791a-4c40-bec2-55728d0255e7",
   "metadata": {},
   "outputs": [
    {
     "data": {
      "text/plain": [
       "True"
      ]
     },
     "execution_count": 10,
     "metadata": {},
     "output_type": "execute_result"
    }
   ],
   "source": [
    "np.tan(x) == np.sin(x)/np.cos(x)\n"
   ]
  },
  {
   "cell_type": "code",
   "execution_count": null,
   "id": "621d021f-9351-48e6-9454-ef9d66fbedbf",
   "metadata": {},
   "outputs": [],
   "source": []
  }
 ],
 "metadata": {
  "kernelspec": {
   "display_name": "Python 3 (ipykernel)",
   "language": "python",
   "name": "python3"
  },
  "language_info": {
   "codemirror_mode": {
    "name": "ipython",
    "version": 3
   },
   "file_extension": ".py",
   "mimetype": "text/x-python",
   "name": "python",
   "nbconvert_exporter": "python",
   "pygments_lexer": "ipython3",
   "version": "3.9.7"
  }
 },
 "nbformat": 4,
 "nbformat_minor": 5
}
