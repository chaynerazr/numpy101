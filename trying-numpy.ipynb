{
 "cells": [
  {
   "cell_type": "markdown",
   "id": "1be5e70f-dd39-4f99-859c-f0cae9c56a40",
   "metadata": {},
   "source": [
    "# Trying Numpy for real\n",
    "\n",
    "Numpy is just a Pythong library. So, we can clearly use it on any Jupyter Notebook. However, you can also try it directly on their [website](https://numpy.org/){cite:p}`NumpySite`. They have some sort of sandbox that you can write code directly without any installation on your local machine. see {numref}`try-numpy`\n",
    "\n",
    "```{figure} images/try_numpy_site.png\n",
    "---\n",
    "height: 300px\n",
    "name: try-numpy\n",
    "---\n",
    "Try numpy on their site.\n",
    "```"
   ]
  },
  {
   "cell_type": "markdown",
   "id": "42b8554e-b6ae-459b-b151-265e054e6a17",
   "metadata": {},
   "source": [
    "To try `numpy` first of all, you need to import the package first. This can be installed by the following command, if you use `conda`\n",
    "```\n",
    "conda install numpy\n",
    "```\n",
    "\n",
    "And then we need to import it first."
   ]
  },
  {
   "cell_type": "code",
   "execution_count": 1,
   "id": "5a689ab6-4b71-460b-88a7-77915c4c6f58",
   "metadata": {},
   "outputs": [],
   "source": [
    "import numpy as np"
   ]
  },
  {
   "cell_type": "markdown",
   "id": "3de2dc82-6323-444e-8e86-33cd7e3955ed",
   "metadata": {},
   "source": [
    "We also need to import `pyplot` to demonstrate how to use numpy to plot some graphs."
   ]
  },
  {
   "cell_type": "code",
   "execution_count": 2,
   "id": "d8e212e0-6c87-45b3-aad7-bd9114beee7c",
   "metadata": {},
   "outputs": [],
   "source": [
    "import matplotlib.pyplot as plt"
   ]
  },
  {
   "cell_type": "markdown",
   "id": "08e4dfbc-02a9-43f2-b890-b251d70ba02c",
   "metadata": {},
   "source": [
    "Referring to for the the {eq}`sine` on the [What is numpy, you asked](/intro.html#so-what-is-numpy-you-asked). We modify a bit to make it more complicate to be:\n",
    "\n",
    "```{math}\n",
    ":label: sine2\n",
    "x=\\sin(\\frac{2\\pi}{2})\n",
    "```\n",
    "If we want to find the value of x, we can code as follow:"
   ]
  },
  {
   "cell_type": "code",
   "execution_count": 3,
   "id": "5f88f3f5-acbc-4289-9931-8417b023662d",
   "metadata": {},
   "outputs": [
    {
     "data": {
      "text/plain": [
       "1.2246467991473532e-16"
      ]
     },
     "execution_count": 3,
     "metadata": {},
     "output_type": "execute_result"
    }
   ],
   "source": [
    "x = np.sin((2*np.pi)/2)\n",
    "x"
   ]
  },
  {
   "cell_type": "markdown",
   "id": "93eb0f31-27bd-4030-9909-24aea346407a",
   "metadata": {},
   "source": [
    "And for the {eq}`tangent` we can write code like this."
   ]
  },
  {
   "cell_type": "code",
   "execution_count": 4,
   "id": "4ed34b4b-791a-4c40-bec2-55728d0255e7",
   "metadata": {},
   "outputs": [
    {
     "data": {
      "text/plain": [
       "True"
      ]
     },
     "execution_count": 4,
     "metadata": {},
     "output_type": "execute_result"
    }
   ],
   "source": [
    "np.tan(x) == np.sin(x)/np.cos(x)"
   ]
  },
  {
   "cell_type": "markdown",
   "id": "8d87bdc4-ee2b-4c3e-8947-3718ae93c1ba",
   "metadata": {},
   "source": [
    "And following is how we can use numpy to plot the sine graph."
   ]
  },
  {
   "cell_type": "code",
   "execution_count": 5,
   "id": "621d021f-9351-48e6-9454-ef9d66fbedbf",
   "metadata": {
    "tags": [
     "hide-input"
    ]
   },
   "outputs": [
    {
     "data": {
      "image/png": "[encoded data removed]",
      "text/plain": [
       "<Figure size 432x288 with 1 Axes>"
      ]
     },
     "metadata": {
      "needs_background": "light"
     },
     "output_type": "display_data"
    }
   ],
   "source": [
    "import matplotlib.pylab as plt\n",
    "x = np.linspace(-np.pi, np.pi, 201)\n",
    "plt.plot(x, np.sin(x))\n",
    "plt.xlabel('Angle [rad]')\n",
    "plt.ylabel('sin(x)')\n",
    "plt.axis('tight')\n",
    "plt.show()"
   ]
  },
  {
   "cell_type": "markdown",
   "id": "2d551ead-1dad-4ea2-ab2c-dac9c4931643",
   "metadata": {},
   "source": [
    "So, it is no brainer that we can modify the above code to plot graph for cosine. We can plot cos graph by use the followed code:\n",
    "    \n",
    "```python\n",
    "x = np.linspace(-np.pi, np.pi, 201)\n",
    "plt.plot(x, np.cos(x))\n",
    "plt.xlabel('Angle [rad]')\n",
    "plt.ylabel('cos(x)')\n",
    "plt.axis('tight')\n",
    "plt.show()\n",
    "```"
   ]
  },
  {
   "cell_type": "markdown",
   "id": "e9404daf-f545-4492-a898-06b6f6d7abbb",
   "metadata": {},
   "source": [
    "Let me give you another example, on {eq}`arccos` \n",
    "\n",
    "```{math}\n",
    ":label: arccos\n",
    "\\arccos x=\\cos^{-1} x\n",
    "```\n",
    "This is inverse cosine(arccos) graph."
   ]
  },
  {
   "cell_type": "code",
   "execution_count": 6,
   "id": "ff79a41a-7909-4a30-a75d-b38cdd7546d7",
   "metadata": {
    "tags": [
     "hide-input"
    ]
   },
   "outputs": [
    {
     "data": {
      "image/png": "[encoded data removed]",
      "text/plain": [
       "<Figure size 432x288 with 1 Axes>"
      ]
     },
     "metadata": {
      "needs_background": "light"
     },
     "output_type": "display_data"
    }
   ],
   "source": [
    "x = np.linspace(-1, 1, num=100)\n",
    "plt.plot(x, np.arccos(x))\n",
    "plt.axis('tight')\n",
    "plt.show()"
   ]
  },
  {
   "cell_type": "markdown",
   "id": "a1c19723-48ef-4c84-98d3-45e91d534751",
   "metadata": {},
   "source": [
    "We can prove {eq}`arccos` by following code."
   ]
  },
  {
   "cell_type": "code",
   "execution_count": 7,
   "id": "89e5d9dc-dbfa-46b5-a7f6-bc4008b25c8d",
   "metadata": {},
   "outputs": [
    {
     "name": "stdout",
     "output_type": "stream",
     "text": [
      "It's true\n"
     ]
    }
   ],
   "source": [
    "if np.arccos(np.cos(np.pi)) == np.pi :\n",
    "    print(\"It's true\")\n",
    "else:\n",
    "    print(\"It's not true\")"
   ]
  },
  {
   "cell_type": "markdown",
   "id": "b4b5ce09-0fa9-44b3-ac4f-3b59c97150db",
   "metadata": {},
   "source": [
    "By the way if you are not sure what is sine, cosine, tangent. It is one of the mathematic thing called \"Trigonometry\". [Khan Acadely](https://www.khanacademy.org/math/trigonometry){cite:p}`TrigonometryOnKhanAcademy` has a great explanation about it.\n",
    "\n",
    "```{figure} images/unit_circle.png\n",
    "---\n",
    "height: 300px\n",
    "name: unit-circle\n",
    "---\n",
    "Unit Circle from Khan Academy\n",
    "```"
   ]
  },
  {
   "cell_type": "markdown",
   "id": "4c4b87ea-2ed3-4a74-8685-559d7c8891aa",
   "metadata": {},
   "source": [
    "If you read about trigonometry, you will learn about {numref}`unit-circle`. We can use `numpy` to draw circle"
   ]
  },
  {
   "cell_type": "code",
   "execution_count": 11,
   "id": "8a0fc80e-6341-4ef8-8754-735d45871d32",
   "metadata": {},
   "outputs": [
    {
     "data": {
      "image/png": "[encoded data removed]",
      "text/plain": [
       "<Figure size 432x288 with 1 Axes>"
      ]
     },
     "metadata": {
      "needs_background": "light"
     },
     "output_type": "display_data"
    }
   ],
   "source": [
    "x = np.linspace(0,np.pi*2,100)\n",
    "plt.plot(np.cos(x), np.sin(x), linewidth=1)\n",
    "plt.show()"
   ]
  }
 ],
 "metadata": {
  "kernelspec": {
   "display_name": "Python 3 (ipykernel)",
   "language": "python",
   "name": "python3"
  },
  "language_info": {
   "codemirror_mode": {
    "name": "ipython",
    "version": 3
   },
   "file_extension": ".py",
   "mimetype": "text/x-python",
   "name": "python",
   "nbconvert_exporter": "python",
   "pygments_lexer": "ipython3",
   "version": "3.9.7"
  }
 },
 "nbformat": 4,
 "nbformat_minor": 5
}
