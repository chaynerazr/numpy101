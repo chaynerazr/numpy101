{
 "cells": [
  {
   "cell_type": "markdown",
   "id": "1be5e70f-dd39-4f99-859c-f0cae9c56a40",
   "metadata": {},
   "source": [
    "# Trying Basic\n",
    "\n",
    "To try `numpy` first of all, you need to import the package first."
   ]
  },
  {
   "cell_type": "code",
   "execution_count": 3,
   "id": "5a689ab6-4b71-460b-88a7-77915c4c6f58",
   "metadata": {},
   "outputs": [],
   "source": [
    "import numpy as np"
   ]
  },
  {
   "cell_type": "code",
   "execution_count": null,
   "id": "8fd97050-9c27-49b3-bac8-21e0fd0beef5",
   "metadata": {},
   "outputs": [],
   "source": [
    "Then for the"
   ]
  },
  {
   "cell_type": "code",
   "execution_count": 4,
   "id": "5f88f3f5-acbc-4289-9931-8417b023662d",
   "metadata": {},
   "outputs": [
    {
     "data": {
      "text/plain": [
       "1.0"
      ]
     },
     "execution_count": 4,
     "metadata": {},
     "output_type": "execute_result"
    }
   ],
   "source": [
    "x = np.sin(np.pi/2) \n",
    "x"
   ]
  },
  {
   "cell_type": "code",
   "execution_count": 7,
   "id": "4ed34b4b-791a-4c40-bec2-55728d0255e7",
   "metadata": {},
   "outputs": [
    {
     "ename": "SyntaxError",
     "evalue": "invalid syntax (3095191131.py, line 3)",
     "output_type": "error",
     "traceback": [
      "\u001b[0;36m  File \u001b[0;32m\"/var/folders/fr/47109l7d71vgx77b578ll3f80000gn/T/ipykernel_29201/3095191131.py\"\u001b[0;36m, line \u001b[0;32m3\u001b[0m\n\u001b[0;31m    else\u001b[0m\n\u001b[0m        ^\u001b[0m\n\u001b[0;31mSyntaxError\u001b[0m\u001b[0;31m:\u001b[0m invalid syntax\n"
     ]
    }
   ],
   "source": [
    "if np.tan(x) == np.sin(x)/np.cos(x):\n",
    "    print(True)\n",
    "else\n",
    "    print(False)"
   ]
  },
  {
   "cell_type": "code",
   "execution_count": null,
   "id": "621d021f-9351-48e6-9454-ef9d66fbedbf",
   "metadata": {},
   "outputs": [],
   "source": []
  }
 ],
 "metadata": {
  "kernelspec": {
   "display_name": "Python 3 (ipykernel)",
   "language": "python",
   "name": "python3"
  },
  "language_info": {
   "codemirror_mode": {
    "name": "ipython",
    "version": 3
   },
   "file_extension": ".py",
   "mimetype": "text/x-python",
   "name": "python",
   "nbconvert_exporter": "python",
   "pygments_lexer": "ipython3",
   "version": "3.9.7"
  }
 },
 "nbformat": 4,
 "nbformat_minor": 5
}
